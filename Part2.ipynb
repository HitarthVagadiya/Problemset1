{
 "cells": [
  {
   "cell_type": "code",
   "execution_count": 2,
   "id": "0f43acee",
   "metadata": {},
   "outputs": [
    {
     "name": "stdout",
     "output_type": "stream",
     "text": [
      "even = [42, 56, 32]\n",
      "odd = [25, 47]\n"
     ]
    }
   ],
   "source": [
    "lst= [25,47,42,56,32]\n",
    "even = []\n",
    "odd = []\n",
    "for i in lst:\n",
    "    if (i%2==0):\n",
    "        even.append(i)\n",
    "    else:\n",
    "        odd.append(i)\n",
    "print('even =', even)\n",
    "print('odd =', odd)"
   ]
  },
  {
   "cell_type": "code",
   "execution_count": 15,
   "id": "2227d025",
   "metadata": {},
   "outputs": [
    {
     "name": "stdout",
     "output_type": "stream",
     "text": [
      "Number of elements =5\n",
      "input element =42\n",
      "input element =56\n",
      "input element =47\n",
      "input element =25\n",
      "input element =32\n",
      "even = [42, 56, 32]\n",
      "odd = [47, 25]\n"
     ]
    }
   ],
   "source": [
    "eleno = int(input('Number of elements ='))\n",
    "lst = []\n",
    "for i in range(0,eleno):\n",
    "    element = int(input('input element ='))\n",
    "    lst.append(element)\n",
    "even = []\n",
    "odd = []\n",
    "for i in lst:\n",
    "    if (i%2==0):\n",
    "        even.append(i)\n",
    "    else:\n",
    "        odd.append(i)\n",
    "print('even =', even)\n",
    "print('odd =', odd)"
   ]
  },
  {
   "cell_type": "code",
   "execution_count": 21,
   "id": "135cf91f",
   "metadata": {},
   "outputs": [
    {
     "name": "stdout",
     "output_type": "stream",
     "text": [
      "True\n",
      "False\n",
      "False\n"
     ]
    }
   ],
   "source": [
    "def inside(x,y,x1,y1,x2,y2):\n",
    "    if x1 <= x <= x2 and y1 <= y <= y2:\n",
    "        return True\n",
    "    else:\n",
    "        return False \n",
    "x = inside(1,1,0,0,2,3)\n",
    "print(x)\n",
    "y = inside(-1,-1,0,0,2,3)\n",
    "print(y)\n",
    "a = inside(1,1,0.3,0.5,1.1,0.7)\n",
    "b = inside(1,1,0.5,0.2,1.1,2)\n",
    "print(a and b)"
   ]
  },
  {
   "cell_type": "code",
   "execution_count": 38,
   "id": "a17de703",
   "metadata": {},
   "outputs": [
    {
     "name": "stdout",
     "output_type": "stream",
     "text": [
      "appyhay\n",
      "ntereay\n"
     ]
    }
   ],
   "source": [
    "def pig_latin(text):\n",
    "  say = \"\"\n",
    "  vowels = ['a','e','i','o','u']\n",
    "  words = text.split()\n",
    "  for word in words:\n",
    "    endString = str(word[1])+str(word[2:])\n",
    "    if word[0] in vowels:\n",
    "        them = str(word[0:1]).lower(), endString, 'way'\n",
    "    else:\n",
    "        them = endString, str(word[0:1]).lower(), 'ay'\n",
    "    word = ''.join(them)\n",
    "    return word\n",
    "\n",
    "print(pig_latin(\"happy\"))\n",
    "print(pig_latin(\"Enter\"))\n"
   ]
  },
  {
   "cell_type": "code",
   "execution_count": null,
   "id": "4364f38b",
   "metadata": {},
   "outputs": [],
   "source": [
    "Q9 \n",
    "Trying to add incompatible variables, as in \n",
    "adding 6 + ‘a’\n",
    "TypeError\n",
    "\n",
    "Referring to the 12th item of a list that has only 10 \n",
    "items\n",
    "IndexError\n",
    "\n",
    "Using a value that is out of range for a function’s \n",
    "input, such as calling math.sqrt(-1.0)\n",
    "ValueError\n",
    "\n",
    "Using an undeclared variable, such as print(x)\n",
    "when x has not been defined \n",
    "NameError\n",
    "\n",
    "Trying to open a file that does not exist, such as \n",
    "mistyping the file name or looking in the wrong \n",
    "directory. \n",
    "IndexError\n",
    "\n"
   ]
  }
 ],
 "metadata": {
  "kernelspec": {
   "display_name": "Python 3 (ipykernel)",
   "language": "python",
   "name": "python3"
  },
  "language_info": {
   "codemirror_mode": {
    "name": "ipython",
    "version": 3
   },
   "file_extension": ".py",
   "mimetype": "text/x-python",
   "name": "python",
   "nbconvert_exporter": "python",
   "pygments_lexer": "ipython3",
   "version": "3.9.12"
  }
 },
 "nbformat": 4,
 "nbformat_minor": 5
}
